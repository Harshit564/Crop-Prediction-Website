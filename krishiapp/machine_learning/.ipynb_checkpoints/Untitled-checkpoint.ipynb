{
 "cells": [
  {
   "cell_type": "code",
   "execution_count": 4,
   "metadata": {},
   "outputs": [
    {
     "name": "stderr",
     "output_type": "stream",
     "text": [
      "C:\\Users\\harsh\\AppData\\Local\\Programs\\Python\\Python38-32\\lib\\site-packages\\sklearn\\linear_model\\_logistic.py:762: ConvergenceWarning: lbfgs failed to converge (status=1):\n",
      "STOP: TOTAL NO. of ITERATIONS REACHED LIMIT.\n",
      "\n",
      "Increase the number of iterations (max_iter) or scale the data as shown in:\n",
      "    https://scikit-learn.org/stable/modules/preprocessing.html\n",
      "Please also refer to the documentation for alternative solver options:\n",
      "    https://scikit-learn.org/stable/modules/linear_model.html#logistic-regression\n",
      "  n_iter_i = _check_optimize_result(\n"
     ]
    },
    {
     "data": {
      "text/plain": [
       "0.8810526315789474"
      ]
     },
     "execution_count": 4,
     "metadata": {},
     "output_type": "execute_result"
    }
   ],
   "source": [
    "import pandas as pd\n",
    "import matplotlib.pyplot as plt\n",
    "import seaborn as sns\n",
    "import numpy as np\n",
    "\n",
    "\n",
    "# Importing the dataset\n",
    "df = pd.read_csv(\"final_crops_data.csv\")\n",
    "\n",
    "X = df.iloc[:,0:4]\n",
    "y = df.iloc[:,-1]\n",
    "\n",
    "# train test splitting\n",
    "from sklearn.model_selection import train_test_split\n",
    "X_train, X_test, y_train, y_test = train_test_split(X,y, random_state=7, test_size=0.2 ,stratify=y) \n",
    "\n",
    "# Model - building\n",
    "from sklearn.linear_model import LogisticRegression\n",
    "\n",
    "log_clf = LogisticRegression()\n",
    "log_clf.fit(X_train, y_train)\n",
    "\n",
    "\n",
    "from sklearn.ensemble import ExtraTreesClassifier\n",
    "\n",
    "ext_clf = ExtraTreesClassifier(n_estimators=200, random_state=7)\n",
    "\n",
    "ext_clf.fit(X_train, y_train)\n",
    "\n",
    "y_predict_ext = ext_clf.predict(X_test)\n",
    "\n",
    "from sklearn.metrics import accuracy_score\n",
    "accuracy_score(y_test, y_predict_ext)\n"
   ]
  },
  {
   "cell_type": "code",
   "execution_count": 30,
   "metadata": {},
   "outputs": [
    {
     "name": "stdout",
     "output_type": "stream",
     "text": [
      "['potato']\n"
     ]
    }
   ],
   "source": [
    "import os\n",
    "\n",
    "import pandas as pd\n",
    "import numpy as np\n",
    "from sklearn.model_selection import train_test_split\n",
    "from sklearn.ensemble import ExtraTreesClassifier\n",
    "import joblib\n",
    "\n",
    "# from krishisathi.settings import BASE_DIR\n",
    "\n",
    "\n",
    "def train_model():\n",
    "    data = pd.read_csv('final_crops_data.csv')\n",
    "    X = data.iloc[:, 0:4]\n",
    "    y = data.iloc[:, -1]\n",
    "    # X_train, X_test, y_train, y_test = train_test_split(X, y, test_size=0.3, random_state=42)\n",
    "    # clf = RandomForestClassifier(n_estimators=13)\n",
    "    clf = ExtraTreesClassifier(n_estimators=200, random_state=7)\n",
    "    clf.fit(X, y)\n",
    "\n",
    "    # Save the trained model to the disk\n",
    "    filename = 'trained_model.sav'\n",
    "    joblib.dump(clf, filename)\n",
    "\n",
    "\n",
    "def test_model(new_data):\n",
    "    model_path = os.path.join(os.path.dirname(os.path.dirname(os.path.abspath('__file__'))), 'machine_learning/trained_model.sav')\n",
    "    model = joblib.load(model_path)\n",
    "    # X_new = [[5.1, 0.5, 0.5, 0.3]]\n",
    "    y_prediction = model.predict([new_data])\n",
    "    # print(y_prediction)\n",
    "    return y_prediction\n",
    "\n",
    "\n",
    "Features = [5.1, 0.5, 0.5, 0.3]\n",
    "\n",
    "if __name__ == '__main__': test_model(Features)"
   ]
  },
  {
   "cell_type": "code",
   "execution_count": null,
   "metadata": {},
   "outputs": [],
   "source": []
  }
 ],
 "metadata": {
  "kernelspec": {
   "display_name": "Python 3.8.2 32-bit",
   "language": "python",
   "name": "python38232bit240635fb4dcd4e189532263f7aeb0c38"
  },
  "language_info": {
   "codemirror_mode": {
    "name": "ipython",
    "version": 3
   },
   "file_extension": ".py",
   "mimetype": "text/x-python",
   "name": "python",
   "nbconvert_exporter": "python",
   "pygments_lexer": "ipython3",
   "version": "3.8.2"
  }
 },
 "nbformat": 4,
 "nbformat_minor": 4
}
